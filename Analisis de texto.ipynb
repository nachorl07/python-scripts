{
  "cells": [
    {
      "cell_type": "code",
      "execution_count": null,
      "metadata": {
        "colab": {
          "base_uri": "https://localhost:8080/"
        },
        "id": "kAbyOXWjKApt",
        "outputId": "67b9d3dd-8c84-4035-afb1-4c682f0ede5d"
      },
      "outputs": [
        {
          "output_type": "stream",
          "name": "stderr",
          "text": [
            "[nltk_data] Downloading package punkt to /root/nltk_data...\n",
            "[nltk_data]   Unzipping tokenizers/punkt.zip.\n",
            "[nltk_data] Downloading package stopwords to /root/nltk_data...\n",
            "[nltk_data]   Unzipping corpora/stopwords.zip.\n"
          ]
        }
      ],
      "source": [
        "import pandas as pd\n",
        "import nltk\n",
        "from nltk.corpus import stopwords\n",
        "from nltk.tokenize import word_tokenize\n",
        "from gensim.models.doc2vec import TaggedDocument\n",
        "import string\n",
        "\n",
        "nltk.download('punkt')\n",
        "nltk.download('stopwords')\n",
        "\n",
        "# Cargar el conjunto de datos\n",
        "file_path = 'newsCorpora-trimmed.csv'\n",
        "data = pd.read_csv(file_path)\n",
        "\n",
        "data.columns = ['category', 'text']\n",
        "\n",
        "# Filtrar solo las categorías de interés\n",
        "categories = ['b', 't', 'e', 'm']  # Business, Science and Technology, Entertainment, Health\n",
        "data = data[data['category'].isin(categories)]\n",
        "\n",
        "# Preprocesamiento de texto\n",
        "stop_words = set(stopwords.words('english'))\n",
        "def preprocess_text(text):\n",
        "    tokens = word_tokenize(text.lower())\n",
        "    tokens = [word for word in tokens if word.isalpha() and word not in stop_words]\n",
        "    return tokens\n",
        "\n",
        "data['tokens'] = data['text'].apply(preprocess_text)\n",
        "\n",
        "# Crear documentos etiquetados\n",
        "tagged_data = [TaggedDocument(words=row['tokens'], tags=[row['category']]) for index, row in data.iterrows()]\n"
      ]
    },
    {
      "cell_type": "code",
      "execution_count": null,
      "metadata": {
        "id": "911leY4RKApx"
      },
      "outputs": [],
      "source": [
        "from gensim.models import Doc2Vec\n",
        "\n",
        "print(tagged_data)\n",
        "\n",
        "# Entrenar el modelo Doc2Vec\n",
        "model = Doc2Vec(tagged_data, vector_size=100, window=5, min_count=5, workers=4, epochs=20)\n",
        "\n",
        "# Guardar el modelo\n",
        "model.save(\"doc2vec_model\")"
      ]
    },
    {
      "cell_type": "code",
      "execution_count": null,
      "metadata": {
        "id": "-G4qaNyXKApy"
      },
      "outputs": [],
      "source": [
        "from sklearn.model_selection import train_test_split\n",
        "from sklearn.svm import SVC\n",
        "from sklearn.metrics import accuracy_score\n",
        "\n",
        "# Convertir los documentos etiquetados a vectores\n",
        "def vectorize_doc(doc):\n",
        "    return model.infer_vector(doc.words)\n",
        "\n",
        "data['vector'] = data['tokens'].apply(lambda x: vectorize_doc(TaggedDocument(x, [0])))\n",
        "\n",
        "# Crear el conjunto de entrenamiento y prueba\n",
        "X = list(data['vector'])\n",
        "y = data['category']\n",
        "X_train, X_test, y_train, y_test = train_test_split(X, y, test_size=0.2, random_state=42)\n",
        "\n",
        "# Entrenar el clasificador SVM\n",
        "classifier = SVC(kernel='linear')\n",
        "classifier.fit(X_train, y_train)\n",
        "\n",
        "# Evaluar el clasificador\n",
        "y_pred = classifier.predict(X_test)\n",
        "print(f\"Accuracy: {accuracy_score(y_test, y_pred)}\")\n"
      ]
    },
    {
      "cell_type": "code",
      "execution_count": null,
      "metadata": {
        "id": "8TzCpOb9KAp0"
      },
      "outputs": [],
      "source": [
        "def classify_new_document(text):\n",
        "    tokens = preprocess_text(text)\n",
        "    vector = vectorize_doc(TaggedDocument(tokens, [0]))\n",
        "    return classifier.predict([vector])[0]\n",
        "\n",
        "# Ejemplo de clasificación\n",
        "new_document = \"New breakthrough in cancer research\"\n",
        "predicted_category = classify_new_document(new_document)\n",
        "print(f\"Predicted category: {predicted_category}\")\n"
      ]
    },
    {
      "cell_type": "code",
      "source": [
        "from sklearn.tree import DecisionTreeClassifier\n",
        "from sklearn.preprocessing import StandardScaler\n",
        "from sklearn.metrics import accuracy_score\n",
        "from sklearn.model_selection import GridSearchCV\n",
        "from imblearn.over_sampling import SMOTE\n",
        "\n",
        "# Paso 1: Normalizar los datos\n",
        "scaler = StandardScaler()\n",
        "X_train_scaled = scaler.fit_transform(X_train)\n",
        "X_test_scaled = scaler.transform(X_test)\n",
        "\n",
        "# Paso 2: Balancear el dataset\n",
        "smote = SMOTE(random_state=42)\n",
        "X_train_balanced, y_train_balanced = smote.fit_resample(X_train_scaled, y_train)\n",
        "\n",
        "# Paso 3: Definir el árbol de decisión y los parámetros para GridSearchCV\n",
        "param_grid = {\n",
        "    'max_depth': [3, 5, 7, 10],\n",
        "    'min_samples_split': [2, 5, 10],\n",
        "    'min_samples_leaf': [1, 2, 5]\n",
        "}\n",
        "\n",
        "grid_search = GridSearchCV(DecisionTreeClassifier(random_state=42), param_grid, cv=5, scoring='accuracy')\n",
        "grid_search.fit(X_train_balanced, y_train_balanced)\n",
        "\n",
        "# Paso 4: Evaluar el modelo con los mejores parámetros encontrados\n",
        "best_classifier = grid_search.best_estimator_\n",
        "y_pred = best_classifier.predict(X_test_scaled)\n",
        "\n",
        "# Paso 5: Imprimir la precisión y los mejores parámetros\n",
        "print(f\"Best parameters: {grid_search.best_params_}\")\n",
        "print(f\"Best cross-validation accuracy: {grid_search.best_score_}\")\n",
        "print(f\"Test Accuracy: {accuracy_score(y_test, y_pred)}\")\n"
      ],
      "metadata": {
        "id": "6WyXdV_3Ribu"
      },
      "execution_count": null,
      "outputs": []
    },
    {
      "cell_type": "code",
      "source": [],
      "metadata": {
        "id": "lXTxvi4fynIh"
      },
      "execution_count": null,
      "outputs": []
    }
  ],
  "metadata": {
    "kernelspec": {
      "display_name": "Python 3",
      "language": "python",
      "name": "python3"
    },
    "language_info": {
      "codemirror_mode": {
        "name": "ipython",
        "version": 3
      },
      "file_extension": ".py",
      "mimetype": "text/x-python",
      "name": "python",
      "nbconvert_exporter": "python",
      "pygments_lexer": "ipython3",
      "version": "3.7.8"
    },
    "colab": {
      "provenance": []
    }
  },
  "nbformat": 4,
  "nbformat_minor": 0
}