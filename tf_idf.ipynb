{
  "cells": [
    {
      "cell_type": "code",
      "execution_count": null,
      "metadata": {
        "id": "24X--zFXdCms",
        "outputId": "9f1d1619-652b-4708-e488-fc2fdc9efa39"
      },
      "outputs": [
        {
          "name": "stdout",
          "output_type": "stream",
          "text": [
            "         an      data     field  interdisciplinary  involves        is  \\\n",
            "0  0.483591  0.285617  0.483591           0.483591  0.000000  0.367784   \n",
            "1  0.000000  0.257129  0.000000           0.000000  0.000000  0.331100   \n",
            "2  0.000000  0.359594  0.000000           0.000000  0.608845  0.000000   \n",
            "\n",
            "   learning   machine        of      part   science  statistics  \n",
            "0  0.000000  0.000000  0.000000  0.000000  0.285617    0.000000  \n",
            "1  0.435357  0.435357  0.435357  0.435357  0.257129    0.000000  \n",
            "2  0.000000  0.000000  0.000000  0.000000  0.359594    0.608845  \n"
          ]
        }
      ],
      "source": [
        "import pandas as pd\n",
        "from sklearn.feature_extraction.text import TfidfVectorizer\n",
        "\n",
        "# Definir el conjunto de documentos\n",
        "documents = [\n",
        "    \"Data science is an interdisciplinary field\",\n",
        "    \"Machine learning is a part of data science\",\n",
        "    \"Data science involves statistics\"\n",
        "]\n",
        "\n",
        "# Crear el vectorizador TF-IDF\n",
        "vectorizer = TfidfVectorizer()\n",
        "\n",
        "# Ajustar y transformar los documentos\n",
        "tfidf_matrix = vectorizer.fit_transform(documents)\n",
        "\n",
        "# Crear un DataFrame para visualizar los resultados\n",
        "df = pd.DataFrame(tfidf_matrix.toarray(), columns=vectorizer.get_feature_names_out())\n",
        "print(df)"
      ]
    },
    {
      "cell_type": "code",
      "execution_count": null,
      "metadata": {
        "id": "l3Dm8mecdCmz",
        "outputId": "77a064c2-00c4-4020-9b77-254363d513cc"
      },
      "outputs": [
        {
          "name": "stderr",
          "output_type": "stream",
          "text": [
            "[nltk_data] Downloading package punkt to\n",
            "[nltk_data]     C:\\Users\\paulo\\AppData\\Roaming\\nltk_data...\n",
            "[nltk_data]   Unzipping tokenizers\\punkt.zip.\n"
          ]
        },
        {
          "name": "stdout",
          "output_type": "stream",
          "text": [
            "Text: \"I love this product! It's absolutely amazing.\"\n",
            "Polarity: 0.6125, Subjectivity: 0.75\n",
            "\n",
            "Text: \"This is the worst experience I've ever had.\"\n",
            "Polarity: -1.0, Subjectivity: 1.0\n",
            "\n",
            "Text: \"The movie was okay, not great but not terrible either.\"\n",
            "Polarity: 0.19999999999999998, Subjectivity: 0.75\n",
            "\n",
            "Text: \"I'm extremely happy with the service.\"\n",
            "Polarity: 0.8, Subjectivity: 1.0\n",
            "\n",
            "Text: \"I hate waiting in long lines.\"\n",
            "Polarity: -0.42500000000000004, Subjectivity: 0.65\n",
            "\n"
          ]
        }
      ],
      "source": [
        "import nltk\n",
        "nltk.download('punkt')\n",
        "\n",
        "from textblob import TextBlob\n",
        "\n",
        "# Lista de textos a analizar\n",
        "texts = [\n",
        "    \"I love this product! It's absolutely amazing.\",\n",
        "    \"This is the worst experience I've ever had.\",\n",
        "    \"The movie was okay, not great but not terrible either.\",\n",
        "    \"I'm extremely happy with the service.\",\n",
        "    \"I hate waiting in long lines.\"\n",
        "]\n",
        "\n",
        "# Función para obtener el sentimiento\n",
        "def get_sentiment(text):\n",
        "    analysis = TextBlob(text)\n",
        "    # Devuelve el sentimiento con polaridad y subjetividad\n",
        "    return analysis.sentiment\n",
        "\n",
        "# Analizar los textos\n",
        "for text in texts:\n",
        "    sentiment = get_sentiment(text)\n",
        "    print(f'Text: \"{text}\"')\n",
        "    print(f'Polarity: {sentiment.polarity}, Subjectivity: {sentiment.subjectivity}')\n",
        "    print()\n"
      ]
    }
  ],
  "metadata": {
    "kernelspec": {
      "display_name": "Python 3",
      "language": "python",
      "name": "python3"
    },
    "language_info": {
      "codemirror_mode": {
        "name": "ipython",
        "version": 3
      },
      "file_extension": ".py",
      "mimetype": "text/x-python",
      "name": "python",
      "nbconvert_exporter": "python",
      "pygments_lexer": "ipython3",
      "version": "3.12.4"
    },
    "colab": {
      "provenance": []
    }
  },
  "nbformat": 4,
  "nbformat_minor": 0
}