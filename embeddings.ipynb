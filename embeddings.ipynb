{
  "cells": [
    {
      "cell_type": "code",
      "execution_count": null,
      "metadata": {
        "id": "xdMs_6cWxauh",
        "outputId": "ac22b3b2-2c56-4643-b7a5-6e700d7147cf"
      },
      "outputs": [
        {
          "name": "stdout",
          "output_type": "stream",
          "text": [
            "Vocabulario: {'el': 1, 'perro': 5, 'ladra': 3, 'gato': 2, 'maúlla': 4, 'son': 6, 'amigos': 0}\n",
            "Representación BoW:\n",
            " [[0 1 0 1 0 1 0]\n",
            " [0 1 1 0 1 0 0]\n",
            " [1 2 1 0 0 1 1]\n",
            " [0 2 1 1 1 1 0]]\n"
          ]
        },
        {
          "name": "stderr",
          "output_type": "stream",
          "text": [
            "C:\\Users\\plopezme\\AppData\\Roaming\\Python\\Python37\\site-packages\\sklearn\\feature_extraction\\image.py:167: DeprecationWarning: `np.int` is a deprecated alias for the builtin `int`. To silence this warning, use `int` by itself. Doing this will not modify any behavior and is safe. When replacing `np.int`, you may wish to use e.g. `np.int64` or `np.int32` to specify the precision. If you wish to review your current use, check the release note link for additional information.\n",
            "Deprecated in NumPy 1.20; for more details and guidance: https://numpy.org/devdocs/release/1.20.0-notes.html#deprecations\n",
            "  dtype=np.int):\n"
          ]
        }
      ],
      "source": [
        "from sklearn.feature_extraction.text import CountVectorizer\n",
        "\n",
        "# Ejemplo de documentos\n",
        "documents = [\n",
        "    \"El perro ladra\",\n",
        "    \"El gato maúlla\",\n",
        "    \"El perro y el gato son amigos\",\n",
        "    \"El perro ladra y el gato maúlla\"\n",
        "]\n",
        "\n",
        "# Crear el modelo BoW\n",
        "vectorizer = CountVectorizer()\n",
        "\n",
        "# Ajustar y transformar los documentos en vectores\n",
        "X = vectorizer.fit_transform(documents)\n",
        "\n",
        "# Mostrar el vocabulario\n",
        "print(\"Vocabulario:\", vectorizer.vocabulary_)\n",
        "\n",
        "# Mostrar la representación BoW de los documentos\n",
        "print(\"Representación BoW:\\n\", X.toarray())"
      ]
    },
    {
      "cell_type": "code",
      "execution_count": null,
      "metadata": {
        "id": "jruo2qL8xauk",
        "outputId": "3f2c157d-8a42-476b-a6f4-24a05ea902db"
      },
      "outputs": [
        {
          "name": "stdout",
          "output_type": "stream",
          "text": [
            "Vector de 'perro':\n",
            " [ 9.4563962e-05  3.0773187e-03 -6.8126465e-03 -1.3754654e-03\n",
            "  7.6685809e-03  7.3464084e-03 -3.6732983e-03  2.6427007e-03\n",
            " -8.3171297e-03  6.2054847e-03 -4.6373224e-03 -3.1641079e-03\n",
            "  9.3113566e-03  8.7338447e-04  7.4907015e-03 -6.0740639e-03\n",
            "  5.1605059e-03  9.9228211e-03 -8.4573915e-03 -5.1356913e-03\n",
            " -7.0648384e-03 -4.8626517e-03 -3.7785650e-03 -8.5362010e-03\n",
            "  7.9556061e-03 -4.8439382e-03  8.4236125e-03  5.2625705e-03\n",
            " -6.5500261e-03  3.9578700e-03  5.4701497e-03 -7.4265362e-03\n",
            " -7.4057197e-03 -2.4752307e-03 -8.6257271e-03 -1.5815735e-03\n",
            " -4.0343284e-04  3.2996845e-03  1.4418793e-03 -8.8142155e-04\n",
            " -5.5940580e-03  1.7303658e-03 -8.9737179e-04  6.7936899e-03\n",
            "  3.9735888e-03  4.5294715e-03  1.4343048e-03 -2.6998566e-03\n",
            " -4.3668128e-03 -1.0320758e-03  1.4370275e-03 -2.6460099e-03\n",
            " -7.0737838e-03 -7.8053069e-03 -9.1217877e-03 -5.9351707e-03\n",
            " -1.8474245e-03 -4.3238713e-03 -6.4606713e-03 -3.7173224e-03\n",
            "  4.2891572e-03 -3.7390448e-03  8.3781742e-03  1.5339922e-03\n",
            " -7.2423196e-03  9.4337985e-03  7.6312111e-03  5.4932809e-03\n",
            " -6.8488456e-03  5.8226776e-03  4.0090918e-03  5.1853680e-03\n",
            "  4.2559002e-03  1.9397545e-03 -3.1701636e-03  8.3538434e-03\n",
            "  9.6121784e-03  3.7926030e-03 -2.8369951e-03  7.1263312e-06\n",
            "  1.2188172e-03 -8.4583256e-03 -8.2239462e-03 -2.3101569e-04\n",
            "  1.2372875e-03 -5.7433820e-03 -4.7252751e-03 -7.3460746e-03\n",
            "  8.3286138e-03  1.2129784e-04 -4.5093987e-03  5.7017040e-03\n",
            "  9.1800140e-03 -4.0998720e-03  7.9646800e-03  5.3754328e-03\n",
            "  5.8791232e-03  5.1259040e-04  8.2130842e-03 -7.0190406e-03] de Tamaño  100\n",
            "Palabras similares a 'perro':\n",
            " [('maúlla', 0.17018885910511017), ('amigos', 0.14595063030719757), ('ladra', 0.06408979743719101), ('son', -0.0027540093287825584), ('y', -0.013514960184693336), ('gato', -0.02367166243493557), ('el', -0.052346743643283844)]\n"
          ]
        }
      ],
      "source": [
        "import gensim\n",
        "from gensim.models import Word2Vec\n",
        "\n",
        "# Ejemplo de corpus de documentos\n",
        "sentences = [\n",
        "    ['el', 'perro', 'ladra'],\n",
        "    ['el', 'gato', 'maúlla'],\n",
        "    ['el', 'perro', 'y', 'el', 'gato', 'son', 'amigos'],\n",
        "    ['el', 'perro', 'ladra', 'y', 'el', 'gato', 'maúlla']\n",
        "]\n",
        "\n",
        "# Entrenar el modelo Word2Vec\n",
        "model = Word2Vec(sentences, vector_size=100, window=5, min_count=1, workers=4)\n",
        "\n",
        "# Obtener el vector de la palabra 'perro'\n",
        "vector = model.wv['perro']\n",
        "print( \"Vector de 'perro':\\n\", vector, \"de Tamaño \", vector.shape[0])\n",
        "\n",
        "\n",
        "# Encontrar palabras similares a 'perro'\n",
        "similar_words = model.wv.most_similar('perro')\n",
        "print(\"Palabras similares a 'perro':\\n\", similar_words)\n"
      ]
    },
    {
      "cell_type": "code",
      "execution_count": null,
      "metadata": {
        "id": "o8e2dHXbxauk",
        "outputId": "a9b31241-f4ff-4aeb-b8af-6ddcde9c7429"
      },
      "outputs": [
        {
          "name": "stdout",
          "output_type": "stream",
          "text": [
            "Vector de 'doc1':\n",
            " [-0.00523712 -0.00598646 -0.00987788  0.00855222  0.00357316  0.00026141\n",
            " -0.00987699 -0.00517174 -0.00971827  0.00201409  0.00282551  0.00464802\n",
            " -0.00430254 -0.00314885 -0.00307666 -0.00871805  0.00217124  0.00922597\n",
            " -0.00950408 -0.00345932 -0.00377704  0.00260302 -0.00568931  0.00262589\n",
            "  0.00580102 -0.0081068  -0.00833266 -0.00995493  0.00493033 -0.00912276\n",
            "  0.0058403   0.00679778 -0.00650261 -0.00452599 -0.00125707  0.00164952\n",
            " -0.00148704 -0.00854769 -0.00360297  0.00172834 -0.00205181 -0.00722613\n",
            "  0.00419036 -0.00857468  0.00270903 -0.00461519  0.00064432 -0.00205395\n",
            "  0.00541016 -0.00801009 -0.00212653 -0.00010093 -0.00664452 -0.00652926\n",
            " -0.00193493  0.00880966 -0.00126062  0.00354016 -0.00575008  0.00881831\n",
            "  0.0029191   0.00928757  0.00435432 -0.00419932  0.00224115 -0.00441026\n",
            "  0.00578298  0.00183784 -0.0022752  -0.00587963 -0.00803539 -0.00085109\n",
            " -0.00894284 -0.00922349 -0.00793785  0.00216816 -0.00650811 -0.00779177\n",
            "  0.00212847  0.00205082  0.00834689  0.00467235 -0.00941201 -0.00033874\n",
            "  0.00785296  0.00267828  0.00268141 -0.00488653  0.00646293  0.00165103\n",
            " -0.00760886  0.00686273 -0.0097776  -0.00815982 -0.00487008  0.0099439\n",
            "  0.00311186 -0.00201327  0.00890354  0.00234753] de Tamaño  100\n",
            "Documentos similares a 'doc1':\n",
            " [('doc2', 0.16251669824123383), ('doc3', 0.0014204089529812336), ('doc4', -0.01605726033449173)]\n"
          ]
        }
      ],
      "source": [
        "from gensim.models import Doc2Vec\n",
        "from gensim.models.doc2vec import TaggedDocument\n",
        "\n",
        "# Ejemplo de corpus de documentos\n",
        "documents = [\n",
        "    TaggedDocument(words=['el', 'perro', 'ladra'], tags=['doc1']),\n",
        "    TaggedDocument(words=['el', 'gato', 'maúlla'], tags=['doc2']),\n",
        "    TaggedDocument(words=['el', 'perro', 'y', 'el', 'gato', 'son', 'amigos'], tags=['doc3']),\n",
        "    TaggedDocument(words=['el', 'perro', 'ladra', 'y', 'el', 'gato', 'maúlla'], tags=['doc4'])\n",
        "]\n",
        "\n",
        "# Entrenar el modelo Doc2Vec\n",
        "model = Doc2Vec(documents, vector_size=100, window=5, min_count=1, workers=4)\n",
        "\n",
        "# Obtener el vector del documento 'doc1'\n",
        "vector = model.dv['doc1']\n",
        "print(\"Vector de 'doc1':\\n\", vector, \"de Tamaño \", vector.shape[0])\n",
        "\n",
        "# Encontrar documentos similares a 'doc1'\n",
        "similar_docs = model.dv.most_similar('doc1')\n",
        "print(\"Documentos similares a 'doc1':\\n\", similar_docs)\n"
      ]
    }
  ],
  "metadata": {
    "kernelspec": {
      "display_name": "Python 3",
      "language": "python",
      "name": "python3"
    },
    "language_info": {
      "codemirror_mode": {
        "name": "ipython",
        "version": 3
      },
      "file_extension": ".py",
      "mimetype": "text/x-python",
      "name": "python",
      "nbconvert_exporter": "python",
      "pygments_lexer": "ipython3",
      "version": "3.7.8"
    },
    "colab": {
      "provenance": []
    }
  },
  "nbformat": 4,
  "nbformat_minor": 0
}