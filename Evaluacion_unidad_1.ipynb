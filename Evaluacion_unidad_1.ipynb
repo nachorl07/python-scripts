{
  "nbformat": 4,
  "nbformat_minor": 0,
  "metadata": {
    "colab": {
      "provenance": []
    },
    "kernelspec": {
      "name": "python3",
      "display_name": "Python 3"
    },
    "language_info": {
      "name": "python"
    }
  },
  "cells": [
    {
      "cell_type": "code",
      "execution_count": null,
      "metadata": {
        "colab": {
          "base_uri": "https://localhost:8080/"
        },
        "id": "FOx1KTbZkKKx",
        "outputId": "8a9072f7-9c7c-45c4-8c6c-fbeaa91a4f70"
      },
      "outputs": [
        {
          "output_type": "stream",
          "name": "stdout",
          "text": [
            "<!doctype html>\n",
            "<html>\n",
            "<head>\n",
            "    <title>Example Domain</title>\n",
            "\n",
            "    <meta charset=\"utf-8\" />\n",
            "    <meta http-equiv=\"Content-type\" content=\"text/html; charset=utf-8\" />\n",
            "    <meta name=\"viewport\" content=\"width=device-width, initial-scale=1\" />\n",
            "    <style type=\"text/css\">\n",
            "    body {\n",
            "        background-color: #f0f0f2;\n",
            "        margin: 0;\n",
            "        padding: 0;\n",
            "        font-family: -apple-system, system-ui, BlinkMacSystemFont, \"Segoe UI\", \"Open Sans\", \"Helvetica Neue\", Helvetica, Arial, sans-serif;\n",
            "        \n",
            "    }\n",
            "    div {\n",
            "        width: 600px;\n",
            "        margin: 5em auto;\n",
            "        padding: 2em;\n",
            "        background-color: #fdfdff;\n",
            "        border-radius: 0.5em;\n",
            "        box-shadow: 2px 3px 7px 2px rgba(0,0,0,0.02);\n",
            "    }\n",
            "    a:link, a:visited {\n",
            "        color: #38488f;\n",
            "        text-decoration: none;\n",
            "    }\n",
            "    @media (max-width: 700px) {\n",
            "        div {\n",
            "            margin: 0 auto;\n",
            "            width: auto;\n",
            "        }\n",
            "    }\n",
            "    </style>    \n",
            "</head>\n",
            "\n",
            "<body>\n",
            "<div>\n",
            "    <h1>Example Domain</h1>\n",
            "    <p>This domain is for use in illustrative examples in documents. You may use this\n",
            "    domain in literature without prior coordination or asking for permission.</p>\n",
            "    <p><a href=\"https://www.iana.org/domains/example\">More information...</a></p>\n",
            "</div>\n",
            "</body>\n",
            "</html>\n",
            "\n",
            "Result:  1\n",
            "Example Domain\n"
          ]
        }
      ],
      "source": [
        "import requests\n",
        "from bs4 import BeautifulSoup\n",
        "\n",
        "# URL de la página web que queremos extraer\n",
        "url = 'https://example.com'\n",
        "\n",
        "# Realizar la solicitud a la página web\n",
        "response = requests.get(url)\n",
        "\n",
        "# Crear objeto BeautifulSoup\n",
        "soup = BeautifulSoup(response.text, 'html.parser')\n",
        "\n",
        "print(response.text)\n",
        "\n",
        "# Extraer datos específicos (por ejemplo, todos los # encabezados h2, h1, head, title, etc.)\n",
        "headings = soup.find_all('h1')\n",
        "i=1\n",
        "for heading in headings:\n",
        "    print(\"Result: \", i)\n",
        "    print(heading.text)"
      ]
    },
    {
      "cell_type": "code",
      "source": [
        "import requests\n",
        "\n",
        "# URL de la API de GitHub\n",
        "url = 'https://api.github.com/repos/python/cpython'\n",
        "\n",
        "# Realizar la solicitud a la API\n",
        "response = requests.get(url)\n",
        "data = response.json()\n",
        "\n",
        "# Mostrar información específica del repositorio\n",
        "print(f\"Repository: {data['name']}\")\n",
        "print(f\"Description: {data['description']}\")\n",
        "print(f\"Stars: {data['stargazers_count']}\")\n",
        "print(f\"Forks: {data['forks_count']}\")"
      ],
      "metadata": {
        "colab": {
          "base_uri": "https://localhost:8080/"
        },
        "id": "XijDAG8MkSWA",
        "outputId": "27d29e3f-fa29-40f0-a003-9d5ffb919b69"
      },
      "execution_count": null,
      "outputs": [
        {
          "output_type": "stream",
          "name": "stdout",
          "text": [
            "Repository: cpython\n",
            "Description: The Python programming language\n",
            "Stars: 60419\n",
            "Forks: 29208\n"
          ]
        }
      ]
    },
    {
      "cell_type": "code",
      "source": [
        "\n",
        "import pandas as pd\n",
        "import numpy as np\n",
        "\n",
        "# 1. Load the Dataset\n",
        "df = pd.read_csv('cars.csv')\n",
        "\n",
        "# 2. Inspect the Dataset\n",
        "print(df.head())\n",
        "print(df.dtypes)\n",
        "\n",
        "# 3. Handle Missing Values\n",
        "df['hp'].fillna(df['hp'].mean(), inplace=True)\n",
        "df.dropna(subset=['hp'], inplace=True)\n",
        "\n",
        "# 4. Filter Data\n",
        "df_filtered = df[df['cyl'] == 6]\n",
        "print(df_filtered)\n",
        "\n",
        "# 5. Transform Columns\n",
        "def categorize_hp(hp):\n",
        "    if hp > 150:\n",
        "        return 'High'\n",
        "    elif hp > 80:\n",
        "        return 'Medium'\n",
        "    else:\n",
        "        return 'Low'\n",
        "\n",
        "df_filtered['HP_Category'] = df_filtered['hp'].apply(categorize_hp)\n",
        "\n",
        "# 6. Save the Cleaned Dataset\n",
        "df_filtered.to_csv('.\\dataset\\cleaned_cars_dataset.csv', index=False)\n",
        "\n",
        "print(\"Data cleaning and preparation complete. The cleaned dataset is saved as 'cleaned_cars_dataset.csv'.\")"
      ],
      "metadata": {
        "colab": {
          "base_uri": "https://localhost:8080/"
        },
        "id": "SaCpEvyXpNpq",
        "outputId": "c0576697-6f3d-4333-c7be-68af22050f71"
      },
      "execution_count": null,
      "outputs": [
        {
          "output_type": "stream",
          "name": "stdout",
          "text": [
            "          Unnamed: 0   mpg  cyl   disp     hp  drat     wt   qsec  vs  am  \\\n",
            "0          Mazda RX4  21.0    6  160.0  110.0  3.90  2.620  16.46   0   1   \n",
            "1      Mazda RX4 Wag  21.0    6  160.0    NaN  3.90  2.875  17.02   0   1   \n",
            "2         Datsun 710  22.8    4  108.0   93.0  3.85  2.320  18.61   1   1   \n",
            "3     Hornet 4 Drive  21.4    6  258.0  110.0  3.08  3.215  19.44   1   0   \n",
            "4  Hornet Sportabout  18.7    8  360.0  175.0  3.15  3.440  17.02   0   0   \n",
            "\n",
            "   gear  carb  \n",
            "0     4     4  \n",
            "1     4     4  \n",
            "2     4     1  \n",
            "3     3     1  \n",
            "4     3     2  \n",
            "Unnamed: 0     object\n",
            "mpg           float64\n",
            "cyl             int64\n",
            "disp          float64\n",
            "hp            float64\n",
            "drat          float64\n",
            "wt            float64\n",
            "qsec          float64\n",
            "vs              int64\n",
            "am              int64\n",
            "gear            int64\n",
            "carb            int64\n",
            "dtype: object\n",
            "        Unnamed: 0   mpg  cyl   disp          hp  drat     wt   qsec  vs  am  \\\n",
            "0        Mazda RX4  21.0    6  160.0  110.000000  3.90  2.620  16.46   0   1   \n",
            "1    Mazda RX4 Wag  21.0    6  160.0  151.074074  3.90  2.875  17.02   0   1   \n",
            "3   Hornet 4 Drive  21.4    6  258.0  110.000000  3.08  3.215  19.44   1   0   \n",
            "5          Valiant  18.1    6  225.0  105.000000  2.76  3.460  20.22   1   0   \n",
            "9         Merc 280  19.2    6  167.6  123.000000  3.92  3.440  18.30   1   0   \n",
            "10       Merc 280C  17.8    6  167.6  123.000000  3.92  3.440  18.90   1   0   \n",
            "29    Ferrari Dino  19.7    6  145.0  175.000000  3.62  2.770  15.50   0   1   \n",
            "\n",
            "    gear  carb  \n",
            "0      4     4  \n",
            "1      4     4  \n",
            "3      3     1  \n",
            "5      3     1  \n",
            "9      4     4  \n",
            "10     4     4  \n",
            "29     5     6  \n",
            "Data cleaning and preparation complete. The cleaned dataset is saved as 'cleaned_cars_dataset.csv'.\n"
          ]
        },
        {
          "output_type": "stream",
          "name": "stderr",
          "text": [
            "<ipython-input-12-dbc6c2f45f97>:28: SettingWithCopyWarning: \n",
            "A value is trying to be set on a copy of a slice from a DataFrame.\n",
            "Try using .loc[row_indexer,col_indexer] = value instead\n",
            "\n",
            "See the caveats in the documentation: https://pandas.pydata.org/pandas-docs/stable/user_guide/indexing.html#returning-a-view-versus-a-copy\n",
            "  df_filtered['HP_Category'] = df_filtered['hp'].apply(categorize_hp)\n"
          ]
        }
      ]
    },
    {
      "cell_type": "code",
      "source": [],
      "metadata": {
        "id": "KwDhcKBjrFd-"
      },
      "execution_count": null,
      "outputs": []
    }
  ]
}